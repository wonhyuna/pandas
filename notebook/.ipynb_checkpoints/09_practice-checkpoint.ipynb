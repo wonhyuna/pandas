{
 "cells": [
  {
   "cell_type": "markdown",
   "metadata": {},
   "source": [
    "# 문자열 추출하기 (p.186)"
   ]
  },
  {
   "cell_type": "code",
   "execution_count": 1,
   "metadata": {},
   "outputs": [],
   "source": [
    "word = 'grail'\n",
    "sent = 'a scratch'"
   ]
  },
  {
   "cell_type": "code",
   "execution_count": 7,
   "metadata": {},
   "outputs": [
    {
     "name": "stdout",
     "output_type": "stream",
     "text": [
      "g\n",
      "a\n",
      "gra\n",
      "h\n",
      "a\n",
      "a\n"
     ]
    }
   ],
   "source": [
    "print(word[0]) \n",
    "print(sent[0])\n",
    "print(word[0:3])\n",
    "print(sent[-1]) #마지막 글자\n",
    "print(sent[-9:-8]) #-9: a, -8: 띄어쓰기 공백 // -9부터 -9(-8-1)까지\n",
    "print(sent[0:-8]) #0: a, -8: 띄어쓰기 공백, -9: a // 0부터 -9(-8-1)까지"
   ]
  },
  {
   "cell_type": "code",
   "execution_count": 8,
   "metadata": {},
   "outputs": [
    {
     "name": "stdout",
     "output_type": "stream",
     "text": [
      "scratc\n",
      "scratc\n"
     ]
    }
   ],
   "source": [
    "print(sent[2:-1]) #2: s, -1: h, -2: c // 2부터 -2(-1-1)까지\n",
    "print(sent[-7:-1])#-7: s, -1: h, -2: c // -7부터 -2(-1-1)까지"
   ]
  },
  {
   "cell_type": "code",
   "execution_count": 10,
   "metadata": {},
   "outputs": [
    {
     "name": "stdout",
     "output_type": "stream",
     "text": [
      "9\n",
      "scratch\n"
     ]
    }
   ],
   "source": [
    "s_len = len(sent)\n",
    "print(s_len)\n",
    "print(sent[2:s_len]) #2부터 8까지"
   ]
  },
  {
   "cell_type": "markdown",
   "metadata": {},
   "source": [
    "# 왼쪽이나 오른쪽 범위를 지정하지 않고 문자열 추출하기 (p.188)"
   ]
  },
  {
   "cell_type": "code",
   "execution_count": 15,
   "metadata": {},
   "outputs": [
    {
     "name": "stdout",
     "output_type": "stream",
     "text": [
      "gra\n",
      "gra\n",
      "scratch\n",
      "scratch\n",
      "a scratch\n",
      "asrth\n"
     ]
    }
   ],
   "source": [
    "print(word[0:3]) #0, 1, 2\n",
    "print(word[:3]) #0, 1, 2\n",
    "print(sent[2:len(sent)])  #2 부터 8까지\n",
    "print(sent[2: ]) #2부터 끝(8)까지\n",
    "print(sent[ : ]) #전체\n",
    "print(sent[::2]) #0, 2, 4, 6, 8"
   ]
  },
  {
   "cell_type": "markdown",
   "metadata": {},
   "source": [
    "#### capitalize : 첫 문자를 대문자로 변환\n",
    "#### count : 문자열의 개수 반환\n",
    "#### startswith : 문자열이 특정 문자로 시작하면 참이 됩니다.\n",
    "#### endswith : 문자열이 특정 문자로 끝나면 참이 됩니다.\n",
    "#### find : 찾을 문자열의 첫 번째 인덱스를 반환합니다. 실패 시 -1을 반환합니다.\n",
    "#### index : find 메서드와 같은 역할을 수행하지만 실패 시 ValueError를 반환합니다.\n",
    "#### isalpha : 모든 문자가 알파벳이면 참입니다. (띄어쓰기 있으면 False)\n",
    "#### isdecimal : 모든 문자가 숫자면 참입니다.\n",
    "#### isalnum : 모든 문자가 알파벳이거나 숫자면 참입니다.\n",
    "#### lower : 모든 문자를 소문자로 변환합니다.\n",
    "#### upper : 모든 문자를 대문자로 변환합니다.\n",
    "#### replace : 문자열의 문자를 다른 문자로 교체합니다.\n",
    "#### strip : 문자열의 맨 앞과 맨 뒤에 있는 빈칸을 제거합니다.\n",
    "#### split : 구분자를 지정하여 문자열을 나누고, 나눈 값들의 리스트를 반환합니다.\n",
    "#### .split(sep = ' ')\n",
    "#### partition : split 메서드와 비슷한 역할을 수행하지만 구분자도 반환합니다.\n",
    "#### .partition(',')\n",
    "#### center : 지정한 너비로 문자열을 늘이고 문자열을 가운데 정렬합니다.\n",
    "#### .center(width = 10)\n",
    "#### zfill : 문자열의 빈칸을 '0'으로 채웁니다.\n",
    "#### .zfill(with = 5)"
   ]
  },
  {
   "cell_type": "markdown",
   "metadata": {},
   "source": [
    "# join, splitlines, replace 메서드 실습하기 (p.191)"
   ]
  },
  {
   "cell_type": "code",
   "execution_count": 21,
   "metadata": {
    "scrolled": true
   },
   "outputs": [],
   "source": [
    "d1 = '40°'\n",
    "m1 = \"46'\"\n",
    "s1 = '52.837\"'\n",
    "u1 = 'N'\n",
    "\n",
    "d2 = '73°'\n",
    "m2 = \"58'\"\n",
    "s2 = '26.302\"'\n",
    "u2 = 'W'"
   ]
  },
  {
   "cell_type": "code",
   "execution_count": 26,
   "metadata": {},
   "outputs": [
    {
     "name": "stdout",
     "output_type": "stream",
     "text": [
      "40° 46' 52.837\" N 73° 58' 26.302\" W\n"
     ]
    }
   ],
   "source": [
    "coords = ' '.join([d1, m1, s1, u1, d2, m2, s2, u2]) \n",
    "#' ' : 각각을 연결할 때 빈칸도 중간중간 포함\n",
    "print(coords)"
   ]
  },
  {
   "cell_type": "code",
   "execution_count": 42,
   "metadata": {},
   "outputs": [
    {
     "name": "stdout",
     "output_type": "stream",
     "text": [
      "Guard: What? Ridden on a horse?\n",
      "King Arthur: Yes!\n",
      "Guard: You're using coconuts!\n",
      "King Arthur: What?\n",
      "Guard: You've got ... coconut[s] and you're bangin' 'em together. \n",
      "\n"
     ]
    }
   ],
   "source": [
    "multi_str = \"\"\"Guard: What? Ridden on a horse?\n",
    "King Arthur: Yes!\n",
    "Guard: You're using coconuts!\n",
    "King Arthur: What?\n",
    "Guard: You've got ... coconut[s] and you're bangin' 'em together. \n",
    "\"\"\" \n",
    "print(multi_str)\n",
    "#여러 줄 문자열에 넣고 싶으면 \"\"\" 앞뒤로 사용 (주석과 같음)"
   ]
  },
  {
   "cell_type": "code",
   "execution_count": 43,
   "metadata": {},
   "outputs": [
    {
     "name": "stdout",
     "output_type": "stream",
     "text": [
      "['Guard: What? Ridden on a horse?', 'King Arthur: Yes!', \"Guard: You're using coconuts!\", 'King Arthur: What?', \"Guard: You've got ... coconut[s] and you're bangin' 'em together. \"]\n"
     ]
    }
   ],
   "source": [
    "multi_str_split = multi_str.splitlines() \n",
    "print(multi_str_split)\n",
    "#각 줄로 나누기"
   ]
  },
  {
   "cell_type": "code",
   "execution_count": 44,
   "metadata": {},
   "outputs": [
    {
     "name": "stdout",
     "output_type": "stream",
     "text": [
      "['Guard: What? Ridden on a horse?', \"Guard: You're using coconuts!\", \"Guard: You've got ... coconut[s] and you're bangin' 'em together. \"]\n"
     ]
    }
   ],
   "source": [
    "guard = multi_str_split[::2] \n",
    "print(guard)\n",
    "#0, 2, 4번째 줄 출력"
   ]
  },
  {
   "cell_type": "code",
   "execution_count": 45,
   "metadata": {},
   "outputs": [
    {
     "name": "stdout",
     "output_type": "stream",
     "text": [
      "['What? Ridden on a horse?', \"You're using coconuts!\", \"You've got ... coconut[s] and you're bangin' 'em together. \"]\n"
     ]
    }
   ],
   "source": [
    "guard = multi_str.replace(\"Guard: \", \"\").splitlines()[::2] \n",
    "print(guard)\n",
    "#0, 2, 4번째 줄에서 Guard:를 없애줌 (큰따옴표 안에 기호가 있으면 그걸로 대체함)"
   ]
  },
  {
   "cell_type": "markdown",
   "metadata": {},
   "source": [
    "# 문자열 포매팅 실습하기 (p.193)"
   ]
  },
  {
   "cell_type": "code",
   "execution_count": 47,
   "metadata": {},
   "outputs": [
    {
     "name": "stdout",
     "output_type": "stream",
     "text": [
      "It's just a flesh wound!\n",
      "It's just a scratch!\n"
     ]
    }
   ],
   "source": [
    "var = 'flesh wound' \n",
    "s = \"It's just a {}!\"\n",
    "\n",
    "print(s.format(var))\n",
    "print(s.format('scratch'))\n",
    "\n",
    "#s { }자리에 format 괄호 안에 있는 내용을 넣음"
   ]
  },
  {
   "cell_type": "code",
   "execution_count": 48,
   "metadata": {},
   "outputs": [
    {
     "name": "stdout",
     "output_type": "stream",
     "text": [
      "Black Knight: 'Tis but a scratch.\n",
      "King Arthur: A scratch? Your arm's off!\n",
      "\n"
     ]
    }
   ],
   "source": [
    "s = \"\"\"Black Knight: 'Tis but a {0}.\n",
    "King Arthur: A {0}? Your arm's off!\n",
    "\"\"\" \n",
    "print(s.format('scratch'))"
   ]
  },
  {
   "cell_type": "code",
   "execution_count": 49,
   "metadata": {},
   "outputs": [
    {
     "name": "stdout",
     "output_type": "stream",
     "text": [
      "Hayden Planetarium Coordinates: 40.7815° N, 73.9733° W\n"
     ]
    }
   ],
   "source": [
    "s = 'Hayden Planetarium Coordinates: {lat}, {lon}' \n",
    "print(s.format(lat='40.7815° N', lon='73.9733° W'))\n",
    "#lat, lon 자리에 각각 해당 값을 넣어줌"
   ]
  },
  {
   "cell_type": "markdown",
   "metadata": {},
   "source": [
    "# 수치값 포매팅 실습 (p.194)"
   ]
  },
  {
   "cell_type": "code",
   "execution_count": 56,
   "metadata": {},
   "outputs": [
    {
     "name": "stdout",
     "output_type": "stream",
     "text": [
      "Some digits of pi: 3.14159265359\n",
      "In 2005, Lu Chao of China recited 67,890 digits of pi\n"
     ]
    }
   ],
   "source": [
    "print('Some digits of pi: {}'.format(3.14159265359))\n",
    "#그대로 대입\n",
    "print(\"In 2005, Lu Chao of China recited {:,} digits of pi\".format(67890))\n",
    "#{:,} : 천단위로 쉼표 넣어줌"
   ]
  },
  {
   "cell_type": "code",
   "execution_count": 51,
   "metadata": {},
   "outputs": [
    {
     "name": "stdout",
     "output_type": "stream",
     "text": [
      "I remember 0.0001031 or 0.0103% of what Lu Chao recited\n",
      "My ID number is 00042\n"
     ]
    }
   ],
   "source": [
    "print(\"I remember {0:.4} or {0:.4%} of what Lu Chao recited\".format(7/67890))\n",
    "?????\n",
    "print(\"My ID number is {0:05d}\".format(42))\n",
    "#정수 5자리로 만들기"
   ]
  },
  {
   "cell_type": "markdown",
   "metadata": {},
   "source": [
    "# % 연산자로 포매팅하기 (p.195)"
   ]
  },
  {
   "cell_type": "code",
   "execution_count": 57,
   "metadata": {},
   "outputs": [
    {
     "name": "stdout",
     "output_type": "stream",
     "text": [
      "I only know 7 digits of pi\n"
     ]
    }
   ],
   "source": [
    "s = 'I only know %d digits of pi' % 7 \n",
    "print(s)\n",
    "# %d에 7을 넣음"
   ]
  },
  {
   "cell_type": "code",
   "execution_count": 58,
   "metadata": {},
   "outputs": [
    {
     "name": "stdout",
     "output_type": "stream",
     "text": [
      "Some digits of e: 2.72\n"
     ]
    }
   ],
   "source": [
    "print('Some digits of %(cont)s: %(value).2f' % {'cont': 'e', 'value': 2.718})\n",
    "# %(cont)s에 e를 넣음 / %(value).2f에 2.718 반올림해서 소숫점 두자리 수로 작성"
   ]
  },
  {
   "cell_type": "markdown",
   "metadata": {},
   "source": [
    "# f-strings로 포매팅 사용하기 (p.196)"
   ]
  },
  {
   "cell_type": "code",
   "execution_count": 59,
   "metadata": {},
   "outputs": [
    {
     "name": "stdout",
     "output_type": "stream",
     "text": [
      "It's just a flesh wound!\n"
     ]
    }
   ],
   "source": [
    "var = 'flesh wound' \n",
    "s = f\"It's just a {var}!\" \n",
    "print(s)\n",
    "#s앞에 f를 붙여두고 {var} 안에 var 넣기 "
   ]
  },
  {
   "cell_type": "code",
   "execution_count": 60,
   "metadata": {},
   "outputs": [
    {
     "name": "stdout",
     "output_type": "stream",
     "text": [
      "Hayden Planetarium Coordinates: 40.7815°N, 73.9733°W\n"
     ]
    }
   ],
   "source": [
    "lat='40.7815°N' \n",
    "lon='73.9733°W' \n",
    "s = f'Hayden Planetarium Coordinates: {lat}, {lon}' \n",
    "print(s)\n",
    "#s앞에 f를 붙여두고 {lat} 안에 lat 넣기 / {lon} 안에 lon 넣기"
   ]
  },
  {
   "cell_type": "markdown",
   "metadata": {},
   "source": [
    "# 정규식으로 전화번호 패턴 찾기 (p.199)"
   ]
  },
  {
   "cell_type": "markdown",
   "metadata": {},
   "source": [
    "## 기본 정규식 문법\n",
    "#### .  : 문자앞에 문자 1개가 있는 패턴을 찾습니다.            (.a)\n",
    "#### ^ : 문자열의 처음부터 일치하는 패턴을 찾습니다.        (^I like)\n",
    "#### \\\\$ : 문자열의 끝 부분부터 일치하는 패턴을 찾습니다.  (on$)"
   ]
  },
  {
   "cell_type": "markdown",
   "metadata": {},
   "source": [
    "#### * : n 이후 숫자(\\d)가 0개 이상인 패턴을 찾습니다.    (n\\d*)\n",
    "#### + : n 이후 숫자(\\d)가 1개 이상인 패턴을 찾습니다.   (n\\d+)\n",
    "#### ? : ?의 앞의 문자(e)가 있거나 없는 패턴을 찾습니다.  (apple?)\n",
    "#### {m} : n 이후 숫자 (\\d)가 2개({2})인 패턴을 찾습니다.  (n\\d{2})\n",
    "#### {m, n} : n 이후 숫자(\\d)가 2개({2}) 이상, 4개({4}) 이하인 패턴을 찾습니다.  (n\\d{2,4})\n",
    "#### \\ : *, ?, + 와 같은 특수 문자를 검색할 때 이스케이프 문자(\\)를 사용합니다. (\\\\**, \\\\?, \\\\+)\n",
    "#### [ ] : c, f, h 중 1개를 포함하고 나머지 문자열이 all인 패턴을 찾습니다. ([cfh]all)\n",
    "#### | : apple이나 application 중 하나만 있는 패턴을 찾습니다. (OR 연산) \n",
    "#### (apple | application)\n",
    "#### ( ) : ( )에 지정한 패턴을 찾을 때 사용합니다. (\\d+) - (\\d+) - (\\d+)"
   ]
  },
  {
   "cell_type": "markdown",
   "metadata": {},
   "source": [
    "## 정규식 특수 문자\n",
    "##### \\\\d : 숫자 1개를 의미합니다. ([0-9]와 동일)\n",
    "#### \\\\D : 숫자 이외의 문자 1개를 의미합니다. ([^0-9]와 동일)\n",
    "#### \\\\s : 공백이나 탭 1개를 의미합니다.\n",
    "#### \\\\S : 공백 문자 이외의 문자 1개를 의미합니다.\n",
    "#### \\\\w : 알파벳 1개를 의미합니다.\n",
    "#### \\\\W : 알파벳 이외의 문자 1개를 의미합니다. (한글, 중국어 등)"
   ]
  },
  {
   "cell_type": "markdown",
   "metadata": {},
   "source": [
    "## 정규식 메서드\n",
    "#### search : 첫번째로 찾은 패턴의 양 끝 인덱스를 반환합니다.\n",
    "#### match : 문자열의 처음부터 검색하여 찾아낸 패턴의 양 끝 인덱스를 반환합니다.\n",
    "#### fullmatch : 전체 문자열이 일치하는지 검사합니다.\n",
    "#### split : 지정한 패턴으로 잘라낸 문자열을 리스트로 반환합니다.\n",
    "#### findall : 지정한 패턴을 찾아 리스트로 반환합니다.\n",
    "#### finditer : findall 메서드와 기능이 동일하지만 iterator를 반환합니다.\n",
    "#### sub : 첫번째 인자로 전달한 값(패턴)을 두번째 인자로 전달한 값(easyspub)으로 교체합니다."
   ]
  },
  {
   "cell_type": "code",
   "execution_count": 75,
   "metadata": {},
   "outputs": [],
   "source": [
    "import re"
   ]
  },
  {
   "cell_type": "code",
   "execution_count": 78,
   "metadata": {},
   "outputs": [
    {
     "name": "stdout",
     "output_type": "stream",
     "text": [
      "<class 're.Match'>\n",
      "<re.Match object; span=(0, 10), match='1234567890'>\n",
      "True\n"
     ]
    }
   ],
   "source": [
    "tele_num = '1234567890'\n",
    "m = re.match(pattern = '\\d\\d\\d\\d\\d\\d\\d\\d\\d\\d', string = tele_num) \n",
    "#문자열의 처음부터 시작하여 패턴이 일치되는 것이 있는지 확인\n",
    "print(type(m))\n",
    "print(m)\n",
    "#span: 찾은 패턴의 인덱스 (첫번째, 마지막 인덱스), match: 찾은 패턴의 문자열\n",
    "print(bool(m))"
   ]
  },
  {
   "cell_type": "code",
   "execution_count": 79,
   "metadata": {},
   "outputs": [
    {
     "name": "stdout",
     "output_type": "stream",
     "text": [
      "match\n"
     ]
    }
   ],
   "source": [
    "if m:\n",
    "    print('match') \n",
    "else:\n",
    "    print('no match')\n",
    "#m : True이므로 match를 출력"
   ]
  },
  {
   "cell_type": "code",
   "execution_count": 80,
   "metadata": {},
   "outputs": [
    {
     "name": "stdout",
     "output_type": "stream",
     "text": [
      "0\n",
      "10\n",
      "(0, 10)\n",
      "1234567890\n"
     ]
    }
   ],
   "source": [
    "print(m.start()) #첫번째 인덱스\n",
    "print(m.end())   #마지막 인덱스\n",
    "print(m.span())  #찾은 패턴의 첫번째와 마지막 인덱스 한 번에 반환\n",
    "print(m.group()) #찾아낸 패턴 반환"
   ]
  },
  {
   "cell_type": "code",
   "execution_count": 82,
   "metadata": {},
   "outputs": [
    {
     "name": "stdout",
     "output_type": "stream",
     "text": [
      "None\n"
     ]
    }
   ],
   "source": [
    "tele_num_spaces = '123 456 7890'\n",
    "m = re.match(pattern = '\\d{10}', string = tele_num_spaces) \n",
    "# \\d\\d\\d\\d\\d\\d\\d\\d\\d\\d 와 \\d{10} 같은 표현\n",
    "print(m)\n",
    "#패턴을 찾지 못해 None 출력"
   ]
  },
  {
   "cell_type": "code",
   "execution_count": 83,
   "metadata": {},
   "outputs": [
    {
     "name": "stdout",
     "output_type": "stream",
     "text": [
      "no match\n"
     ]
    }
   ],
   "source": [
    "if m:\n",
    "    print('match') \n",
    "else:\n",
    "    print('no match')\n",
    "#m : False이므로 no match를 출력"
   ]
  },
  {
   "cell_type": "code",
   "execution_count": 84,
   "metadata": {},
   "outputs": [
    {
     "name": "stdout",
     "output_type": "stream",
     "text": [
      "<re.Match object; span=(0, 12), match='123 456 7890'>\n"
     ]
    }
   ],
   "source": [
    "p = '\\d{3}\\s?\\d{3}\\s?\\d{4}' \n",
    "m = re.match(pattern = p, string = tele_num_spaces) \n",
    "print(m)\n",
    "#\\s? : 띄어쓰기를 감지하게 함"
   ]
  },
  {
   "cell_type": "code",
   "execution_count": 87,
   "metadata": {},
   "outputs": [
    {
     "name": "stdout",
     "output_type": "stream",
     "text": [
      "<re.Match object; span=(0, 14), match='(123) 456-7890'>\n"
     ]
    }
   ],
   "source": [
    "tele_num_space_paren_dash = '(123) 456-7890' \n",
    "p = '\\(?\\d{3}\\)?\\s?\\d{3}\\s?-?\\d{4}' \n",
    "m = re.match(pattern = p, string = tele_num_space_paren_dash) \n",
    "print(m)\n",
    "#\\(?, \\)? : ( 나 )가 있는지 체크 \n",
    "#\\s?-?: -가 있는지 체크 (\\-?도 가능)"
   ]
  },
  {
   "cell_type": "code",
   "execution_count": 88,
   "metadata": {},
   "outputs": [
    {
     "name": "stdout",
     "output_type": "stream",
     "text": [
      "<re.Match object; span=(0, 17), match='+1 (123) 456-7890'>\n"
     ]
    }
   ],
   "source": [
    "cnty_tele_num_space_paren_dash = '+1 (123) 456-7890' \n",
    "p = '\\+?1\\s?\\(?\\d{3}\\)?\\s?\\d{3}\\s?-?\\d{4}' \n",
    "m = re.match(pattern=p, string=cnty_tele_num_space_paren_dash) \n",
    "print(m)\n",
    "#\\+? : +를 의미하고 1은 그대로 써줌\n",
    "#\\s? : 띄어쓰기를 감지하게 함\n",
    "#\\s?-?: -가 있는지 체크 (\\-?도 가능)"
   ]
  },
  {
   "cell_type": "markdown",
   "metadata": {},
   "source": [
    "# compile 메서드로 정규식 메서드 사용하기 (p.203)"
   ]
  },
  {
   "cell_type": "code",
   "execution_count": 89,
   "metadata": {},
   "outputs": [
    {
     "name": "stdout",
     "output_type": "stream",
     "text": [
      "<re.Match object; span=(0, 10), match='1234567890'>\n"
     ]
    }
   ],
   "source": [
    "p = re.compile('\\d{10}') \n",
    "s = '1234567890' \n",
    "m = p.match(s) \n",
    "print(m)\n",
    "#re.match 메서드를 쓰지 않아도 됨"
   ]
  }
 ],
 "metadata": {
  "kernelspec": {
   "display_name": "Python 3",
   "language": "python",
   "name": "python3"
  },
  "language_info": {
   "codemirror_mode": {
    "name": "ipython",
    "version": 3
   },
   "file_extension": ".py",
   "mimetype": "text/x-python",
   "name": "python",
   "nbconvert_exporter": "python",
   "pygments_lexer": "ipython3",
   "version": "3.8.5"
  }
 },
 "nbformat": 4,
 "nbformat_minor": 1
}
